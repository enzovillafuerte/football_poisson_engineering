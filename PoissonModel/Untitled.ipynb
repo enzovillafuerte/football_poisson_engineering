{
 "cells": [
  {
   "cell_type": "code",
   "execution_count": null,
   "id": "9137d625-fd6c-42fe-8162-6678e6f127ee",
   "metadata": {},
   "outputs": [],
   "source": []
  },
  {
   "cell_type": "code",
   "execution_count": 5,
   "id": "d2a3a5d8-697e-45eb-b653-97fa9b48a811",
   "metadata": {},
   "outputs": [],
   "source": [
    "from nbconvert import PythonExporter"
   ]
  },
  {
   "cell_type": "code",
   "execution_count": null,
   "id": "b8ffd8dc-9dc8-4c40-a039-b3a605b06b10",
   "metadata": {},
   "outputs": [],
   "source": []
  }
 ],
 "metadata": {
  "kernelspec": {
   "display_name": "Python 3 (ipykernel)",
   "language": "python",
   "name": "python3"
  },
  "language_info": {
   "codemirror_mode": {
    "name": "ipython",
    "version": 3
   },
   "file_extension": ".py",
   "mimetype": "text/x-python",
   "name": "python",
   "nbconvert_exporter": "python",
   "pygments_lexer": "ipython3",
   "version": "3.9.12"
  }
 },
 "nbformat": 4,
 "nbformat_minor": 5
}
